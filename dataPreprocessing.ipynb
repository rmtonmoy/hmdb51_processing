{
 "cells": [
  {
   "cell_type": "code",
   "execution_count": null,
   "metadata": {},
   "outputs": [],
   "source": [
    "# Unzips the dataset file - produces one rar file for each labeled action\n",
    "# Caution: Should be run once\n",
    "!unrar x hmdb51_org.rar extracts/"
   ]
  },
  {
   "cell_type": "code",
   "execution_count": null,
   "metadata": {},
   "outputs": [],
   "source": [
    "# Unzips the produced rar files for each labeled action\n",
    "# Caution: Should be run once\n",
    "!for rarFile in extracts/*.rar; do unrar x $rarFile all_videos/; done"
   ]
  },
  {
   "cell_type": "code",
   "execution_count": 1,
   "metadata": {},
   "outputs": [],
   "source": [
    "import csv\n",
    "import pandas as pd\n",
    "import os\n",
    "import random\n",
    "import sys\n",
    "import json\n",
    "import time"
   ]
  },
  {
   "cell_type": "code",
   "execution_count": null,
   "metadata": {},
   "outputs": [],
   "source": [
    "def convert_avi_to_mp4(avi_file_path):\n",
    "    os.popen(\"ffmpeg -i '{input}' -ac 2 -b:v 2000k -c:a aac -c:v libx264 -b:a 160k -vprofile high -bf 0 -strict experimental -f mp4 '{output}.mp4'\".format(input = avi_file_path, output = avi_file_path[0:len(avi_file_path)-4]))\n",
    "    return True"
   ]
  },
  {
   "cell_type": "code",
   "execution_count": null,
   "metadata": {},
   "outputs": [],
   "source": [
    "# Conver all videos from avi to mp4\n",
    "# Caution: Should be run once\n",
    "path = \"all_videos\"\n",
    "\n",
    "for root, d_names, f_names in os.walk(path):\n",
    "    for fileName in f_names:\n",
    "        convert_avi_to_mp4(f\"{root}/{fileName}\")\n",
    "        time.sleep(.02)"
   ]
  },
  {
   "cell_type": "code",
   "execution_count": 10,
   "metadata": {},
   "outputs": [],
   "source": [
    "# delete all avi files\n",
    "# WARNING: make sure there is no important avi files in the working directory\n",
    "!find . -name \"*.avi\" -type f -delete"
   ]
  },
  {
   "cell_type": "code",
   "execution_count": 2,
   "metadata": {},
   "outputs": [],
   "source": [
    "# Creates the annotations following the exisiting annotation for ssv2\n",
    "# Caution: Should be run once\n",
    "\n",
    "# Name of the dir that holds the videos\n",
    "path = \"hmdb51\"\n",
    "next_free_slot = 174 # ssv2 has labels upto 173\n",
    "\n",
    "label_maker = dict()\n",
    "test_set = [ ]\n",
    "val_set = [ ]\n",
    "train_set = [ ]\n",
    "\n",
    "for root, d_names, f_names in os.walk(path):\n",
    "    for fileName in f_names:\n",
    "        if(root not in label_maker.keys()):\n",
    "            label_maker.update({root : next_free_slot})\n",
    "            next_free_slot = next_free_slot + 1\n",
    "\n",
    "        dice_roll = random.randint(1, 100)\n",
    "        video_path = f\"dataset_root/{root}/{fileName}\"\n",
    "        entry = [ video_path , label_maker[root] ] \n",
    "\n",
    "        if(dice_roll <= 10):\n",
    "            test_set.append(entry)\n",
    "        elif(dice_roll <= 20):\n",
    "            val_set.append(entry)\n",
    "        else:\n",
    "            train_set.append(entry)\n",
    "\n",
    "# shuffling the entries & adding the header\n",
    "test_set = random.sample(test_set, len(test_set))\n",
    "test_set = [['video', 'label']] + test_set\n",
    "\n",
    "val_set = random.sample(val_set, len(val_set))\n",
    "val_set = [['video', 'label']] + val_set\n",
    "\n",
    "train_set = random.sample(train_set, len(train_set))\n",
    "train_set = [['video', 'label']] + train_set\n",
    "\n",
    "\n",
    "with open('test.csv', 'w', newline='') as file:\n",
    "    writer = csv.writer(file, delimiter= ',')\n",
    "    writer.writerows(test_set)\n",
    "\n",
    "with open('val.csv', 'w', newline='') as file:\n",
    "    writer = csv.writer(file, delimiter= ',')\n",
    "    writer.writerows(val_set)\n",
    "\n",
    "with open('train.csv', 'w', newline='') as file:\n",
    "    writer = csv.writer(file, delimiter= ',')\n",
    "    writer.writerows(train_set)\n",
    "\n",
    "\n",
    "print(next_free_slot)\n",
    "            \n",
    "\n",
    "        \n",
    "\n"
   ]
  }
 ],
 "metadata": {
  "kernelspec": {
   "display_name": "Python 3",
   "language": "python",
   "name": "python3"
  },
  "language_info": {
   "codemirror_mode": {
    "name": "ipython",
    "version": 3
   },
   "file_extension": ".py",
   "mimetype": "text/x-python",
   "name": "python",
   "nbconvert_exporter": "python",
   "pygments_lexer": "ipython3",
   "version": "3.10.12"
  }
 },
 "nbformat": 4,
 "nbformat_minor": 2
}
